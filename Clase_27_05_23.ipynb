{
  "nbformat": 4,
  "nbformat_minor": 0,
  "metadata": {
    "colab": {
      "provenance": [],
      "toc_visible": true,
      "authorship_tag": "ABX9TyM/2R2+2RHLIn4tbGMTfn6U",
      "include_colab_link": true
    },
    "kernelspec": {
      "name": "python3",
      "display_name": "Python 3"
    },
    "language_info": {
      "name": "python"
    }
  },
  "cells": [
    {
      "cell_type": "markdown",
      "metadata": {
        "id": "view-in-github",
        "colab_type": "text"
      },
      "source": [
        "<a href=\"https://colab.research.google.com/github/Mirtha307/AD_CENTEC-PYTHON/blob/main/Clase_27_05_23.ipynb\" target=\"_parent\"><img src=\"https://colab.research.google.com/assets/colab-badge.svg\" alt=\"Open In Colab\"/></a>"
      ]
    },
    {
      "cell_type": "markdown",
      "source": [
        "INICIO DE CLASE\n"
      ],
      "metadata": {
        "id": "RHlQa-orjwOO"
      }
    },
    {
      "cell_type": "code",
      "source": [
        "#Primer archivo"
      ],
      "metadata": {
        "id": "ka_5T_hmBxoJ"
      },
      "execution_count": null,
      "outputs": []
    },
    {
      "cell_type": "markdown",
      "source": [
        "# Verificando entorno de trabajo"
      ],
      "metadata": {
        "id": "UMw3ao4Akln3"
      }
    },
    {
      "cell_type": "code",
      "source": [
        "import sys"
      ],
      "metadata": {
        "id": "gL-FeOyhkp1g"
      },
      "execution_count": null,
      "outputs": []
    },
    {
      "cell_type": "code",
      "source": [
        "print(sys.version)\n"
      ],
      "metadata": {
        "colab": {
          "base_uri": "https://localhost:8080/"
        },
        "id": "bqtkYSo1k9se",
        "outputId": "34ddd0e8-fd3f-4487-fd4e-7f7985c7a8bf"
      },
      "execution_count": null,
      "outputs": [
        {
          "output_type": "stream",
          "name": "stdout",
          "text": [
            "3.10.11 (main, Apr  5 2023, 14:15:10) [GCC 9.4.0]\n"
          ]
        }
      ]
    },
    {
      "cell_type": "code",
      "source": [
        "import platform"
      ],
      "metadata": {
        "id": "BdDp2jPBlBc2"
      },
      "execution_count": null,
      "outputs": []
    },
    {
      "cell_type": "code",
      "source": [
        "platform.python_version() #Para ver la versión de Python en la plataforma"
      ],
      "metadata": {
        "colab": {
          "base_uri": "https://localhost:8080/",
          "height": 35
        },
        "id": "n7uNO8l1qZao",
        "outputId": "2e73def3-279c-44a0-d997-bdc5b86b8847"
      },
      "execution_count": null,
      "outputs": [
        {
          "output_type": "execute_result",
          "data": {
            "text/plain": [
              "'3.10.11'"
            ],
            "application/vnd.google.colaboratory.intrinsic+json": {
              "type": "string"
            }
          },
          "metadata": {},
          "execution_count": 8
        }
      ]
    },
    {
      "cell_type": "code",
      "source": [
        "#Este es mi primer comentario en una sola linea\n",
        "\n",
        "#Comentario 1\n",
        "#Comentario 2\n",
        "\n",
        "#Si los comentarios lo van hacer en varias lineas se hacen con DOBLES COMILLAS TRIPLES\n",
        "\n",
        "\"\"\"\n",
        "  Comentario 1\n",
        "  Comentario 2\n",
        "  Comentario 3\n",
        "\n",
        "  ****\n",
        "  Script de python\n",
        "\n",
        "\n",
        "  ****\n",
        "  \"\"\"\n",
        "\n",
        "\n"
      ],
      "metadata": {
        "colab": {
          "base_uri": "https://localhost:8080/",
          "height": 35
        },
        "id": "_9k1AwGurfUe",
        "outputId": "fa0a3edc-9001-422d-f7e9-a59731f6cdbf"
      },
      "execution_count": null,
      "outputs": [
        {
          "output_type": "execute_result",
          "data": {
            "text/plain": [
              "'\\n  Comentario 1\\n  Comentario 2\\n  Comentario 3\\n  \\n  ****\\n  Script de python\\n\\n\\n  ****\\n  '"
            ],
            "application/vnd.google.colaboratory.intrinsic+json": {
              "type": "string"
            }
          },
          "metadata": {},
          "execution_count": 1
        }
      ]
    },
    {
      "cell_type": "code",
      "source": [
        "1+1"
      ],
      "metadata": {
        "colab": {
          "base_uri": "https://localhost:8080/"
        },
        "id": "dudmDF1ms3kG",
        "outputId": "ee52ac0b-ede3-40f2-d4fa-8fd7851bf118"
      },
      "execution_count": null,
      "outputs": [
        {
          "output_type": "execute_result",
          "data": {
            "text/plain": [
              "2"
            ]
          },
          "metadata": {},
          "execution_count": 12
        }
      ]
    },
    {
      "cell_type": "code",
      "source": [
        "print(1+1)"
      ],
      "metadata": {
        "colab": {
          "base_uri": "https://localhost:8080/"
        },
        "id": "8HuYeLfDs6UF",
        "outputId": "f010180c-e410-475b-e622-5c629766d250"
      },
      "execution_count": null,
      "outputs": [
        {
          "output_type": "stream",
          "name": "stdout",
          "text": [
            "2\n"
          ]
        }
      ]
    },
    {
      "cell_type": "code",
      "source": [
        "8*4"
      ],
      "metadata": {
        "colab": {
          "base_uri": "https://localhost:8080/"
        },
        "id": "HsLVu_5xs_TV",
        "outputId": "53f47025-2b41-4bf9-9a79-4bd071681bc2"
      },
      "execution_count": null,
      "outputs": [
        {
          "output_type": "execute_result",
          "data": {
            "text/plain": [
              "32"
            ]
          },
          "metadata": {},
          "execution_count": 14
        }
      ]
    },
    {
      "cell_type": "code",
      "source": [
        "1/2"
      ],
      "metadata": {
        "colab": {
          "base_uri": "https://localhost:8080/"
        },
        "id": "OPnxRjXftB09",
        "outputId": "7686d304-3286-412c-a5c6-570312a673f0"
      },
      "execution_count": null,
      "outputs": [
        {
          "output_type": "execute_result",
          "data": {
            "text/plain": [
              "0.5"
            ]
          },
          "metadata": {},
          "execution_count": 15
        }
      ]
    },
    {
      "cell_type": "code",
      "source": [
        "5-2"
      ],
      "metadata": {
        "colab": {
          "base_uri": "https://localhost:8080/"
        },
        "id": "gg8Njx-ZtD8U",
        "outputId": "1993e007-e7af-4451-8e2f-9da4db633c55"
      },
      "execution_count": null,
      "outputs": [
        {
          "output_type": "execute_result",
          "data": {
            "text/plain": [
              "3"
            ]
          },
          "metadata": {},
          "execution_count": 16
        }
      ]
    },
    {
      "cell_type": "code",
      "source": [],
      "metadata": {
        "id": "mfHuNqIPvYxH"
      },
      "execution_count": null,
      "outputs": []
    },
    {
      "cell_type": "markdown",
      "source": [
        "## Variable y asignación"
      ],
      "metadata": {
        "id": "9ykGtHcIvW6-"
      }
    },
    {
      "cell_type": "code",
      "source": [
        "print (\"Hola mundo\")"
      ],
      "metadata": {
        "colab": {
          "base_uri": "https://localhost:8080/"
        },
        "id": "lLybE4ilvnfN",
        "outputId": "421b95dc-9032-4142-82d2-fae88eef7951"
      },
      "execution_count": null,
      "outputs": [
        {
          "output_type": "stream",
          "name": "stdout",
          "text": [
            "Hola mundo\n"
          ]
        }
      ]
    },
    {
      "cell_type": "code",
      "source": [
        "x = 2"
      ],
      "metadata": {
        "id": "N5nF_09KwERA"
      },
      "execution_count": null,
      "outputs": []
    },
    {
      "cell_type": "code",
      "source": [
        "type (x)"
      ],
      "metadata": {
        "colab": {
          "base_uri": "https://localhost:8080/"
        },
        "id": "VydWLsBzxGCl",
        "outputId": "ada0962f-030c-495b-be06-ba1d69332e74"
      },
      "execution_count": null,
      "outputs": [
        {
          "output_type": "execute_result",
          "data": {
            "text/plain": [
              "int"
            ]
          },
          "metadata": {},
          "execution_count": 30
        }
      ]
    },
    {
      "cell_type": "code",
      "source": [
        "y = 3.5\n",
        "type (y)"
      ],
      "metadata": {
        "colab": {
          "base_uri": "https://localhost:8080/"
        },
        "id": "Imp9F8qZw__t",
        "outputId": "06f4fa54-818d-426e-88c2-8cf38e4f2ea9"
      },
      "execution_count": null,
      "outputs": [
        {
          "output_type": "execute_result",
          "data": {
            "text/plain": [
              "float"
            ]
          },
          "metadata": {},
          "execution_count": 31
        }
      ]
    },
    {
      "cell_type": "code",
      "source": [
        "z = \"Hola mundo\"\n",
        "type(z)\n"
      ],
      "metadata": {
        "colab": {
          "base_uri": "https://localhost:8080/"
        },
        "id": "Q2LzqYiixC69",
        "outputId": "9d97bc8b-540e-4554-a07c-c2b181f6662e"
      },
      "execution_count": null,
      "outputs": [
        {
          "output_type": "execute_result",
          "data": {
            "text/plain": [
              "str"
            ]
          },
          "metadata": {},
          "execution_count": 33
        }
      ]
    },
    {
      "cell_type": "markdown",
      "source": [
        "Python es de tipado  dinámico, no se puede asignar entero y luego volver asignar un string, PERO EN PYTHON SI."
      ],
      "metadata": {
        "id": "7muBXPpIyIuN"
      }
    },
    {
      "cell_type": "code",
      "source": [
        "x = 2"
      ],
      "metadata": {
        "id": "V8UKjvXjyX9Q"
      },
      "execution_count": null,
      "outputs": []
    },
    {
      "cell_type": "code",
      "source": [
        "x = \"H ola\""
      ],
      "metadata": {
        "id": "nQiQjTAgya10"
      },
      "execution_count": null,
      "outputs": []
    },
    {
      "cell_type": "code",
      "source": [
        "###ALGORITMO###\n",
        "#Primero siempre DECLARAR TUS INPUTS\n",
        "\n",
        "#LUEGO TU PROCESO\n",
        "\n",
        "#OUTPUT"
      ],
      "metadata": {
        "id": "Qa1aQFTiygGt"
      },
      "execution_count": null,
      "outputs": []
    },
    {
      "cell_type": "code",
      "source": [
        "x = 1\n",
        "x"
      ],
      "metadata": {
        "colab": {
          "base_uri": "https://localhost:8080/"
        },
        "id": "sHYsHhcT0Zf-",
        "outputId": "447f6723-8c91-4dee-e18a-1bb0247897f4"
      },
      "execution_count": null,
      "outputs": [
        {
          "output_type": "execute_result",
          "data": {
            "text/plain": [
              "1"
            ]
          },
          "metadata": {},
          "execution_count": 2
        }
      ]
    },
    {
      "cell_type": "code",
      "source": [
        "x = 2\n",
        "x"
      ],
      "metadata": {
        "colab": {
          "base_uri": "https://localhost:8080/"
        },
        "id": "79HypSpi0dLR",
        "outputId": "4aa6325f-b598-483d-ca71-aefd8d7fc849"
      },
      "execution_count": null,
      "outputs": [
        {
          "output_type": "execute_result",
          "data": {
            "text/plain": [
              "2"
            ]
          },
          "metadata": {},
          "execution_count": 3
        }
      ]
    },
    {
      "cell_type": "markdown",
      "source": [
        "## Asignación múltiple"
      ],
      "metadata": {
        "id": "WjWiKvSZziYN"
      }
    },
    {
      "cell_type": "code",
      "source": [
        "# Asignación simple\n",
        "number_example = 2\n",
        "number_example\n"
      ],
      "metadata": {
        "id": "sZiLSKpAzqz9",
        "colab": {
          "base_uri": "https://localhost:8080/"
        },
        "outputId": "f2deb854-0f60-4df1-897a-b2496cd835c3"
      },
      "execution_count": null,
      "outputs": [
        {
          "output_type": "execute_result",
          "data": {
            "text/plain": [
              "2"
            ]
          },
          "metadata": {},
          "execution_count": 4
        }
      ]
    },
    {
      "cell_type": "code",
      "source": [
        "x = 2\n",
        "y = 3"
      ],
      "metadata": {
        "id": "gyqzo_Ftz4X0"
      },
      "execution_count": null,
      "outputs": []
    },
    {
      "cell_type": "code",
      "source": [
        "x, y, z = 1, 2, 3"
      ],
      "metadata": {
        "id": "RveO-Ebc0CF4"
      },
      "execution_count": null,
      "outputs": []
    },
    {
      "cell_type": "code",
      "source": [
        "print(x)\n",
        "print(y)\n",
        "print(z)"
      ],
      "metadata": {
        "colab": {
          "base_uri": "https://localhost:8080/"
        },
        "id": "Gx4didfa0NkE",
        "outputId": "976fd2fc-dc2e-41c8-c156-3d2f934f9c04"
      },
      "execution_count": null,
      "outputs": [
        {
          "output_type": "stream",
          "name": "stdout",
          "text": [
            "1\n",
            "2\n",
            "3\n"
          ]
        }
      ]
    },
    {
      "cell_type": "code",
      "source": [
        "# Dirección de memoria"
      ],
      "metadata": {
        "id": "tN3HUmqX0HqJ"
      },
      "execution_count": null,
      "outputs": []
    },
    {
      "cell_type": "markdown",
      "source": [
        "![image.png](data:image/png;base64,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)"
      ],
      "metadata": {
        "id": "x7Ti8_Ua2UoO"
      }
    },
    {
      "cell_type": "code",
      "source": [
        "x = 7\n",
        "print(id(x))"
      ],
      "metadata": {
        "colab": {
          "base_uri": "https://localhost:8080/"
        },
        "id": "o31yotm_1InR",
        "outputId": "8e9f73cd-fe08-40b4-bac4-5154f57b7f5b"
      },
      "execution_count": null,
      "outputs": [
        {
          "output_type": "stream",
          "name": "stdout",
          "text": [
            "140682177020336\n"
          ]
        }
      ]
    },
    {
      "cell_type": "code",
      "source": [
        "x = 7\n",
        "x = x+1\n",
        "print(id(x))"
      ],
      "metadata": {
        "id": "sEyrVSgY1uge"
      },
      "execution_count": null,
      "outputs": []
    },
    {
      "cell_type": "code",
      "source": [
        "# Tipos de datos"
      ],
      "metadata": {
        "id": "G2doUTuY2h3N"
      },
      "execution_count": null,
      "outputs": []
    },
    {
      "cell_type": "code",
      "source": [
        "# Integer\n",
        "int_number = 6/2\n",
        "int_number\n"
      ],
      "metadata": {
        "colab": {
          "base_uri": "https://localhost:8080/"
        },
        "id": "-R8bMQgC2xfx",
        "outputId": "1a242a7a-184c-49c7-9d2c-e87c97697adb"
      },
      "execution_count": null,
      "outputs": [
        {
          "output_type": "execute_result",
          "data": {
            "text/plain": [
              "3.0"
            ]
          },
          "metadata": {},
          "execution_count": 10
        }
      ]
    },
    {
      "cell_type": "code",
      "source": [
        "# Float\n",
        "float_number = 5.2/2\n",
        "float_number\n"
      ],
      "metadata": {
        "colab": {
          "base_uri": "https://localhost:8080/"
        },
        "id": "dwFJI1de24KQ",
        "outputId": "912ab31b-f563-4b28-f02a-aa830ae06779"
      },
      "execution_count": null,
      "outputs": [
        {
          "output_type": "execute_result",
          "data": {
            "text/plain": [
              "2.6"
            ]
          },
          "metadata": {},
          "execution_count": 11
        }
      ]
    },
    {
      "cell_type": "code",
      "source": [
        "# String  #MAGY: Hay diferentes maneras de declarar los comentarios\n",
        "string_one = 'First string'\n",
        "string_two = \"Second string\"\n",
        "string_three = \"\"\"Third string\"\"\"\n",
        "print(string_one)\n",
        "print(string_two)\n",
        "print(string_three)\n"
      ],
      "metadata": {
        "colab": {
          "base_uri": "https://localhost:8080/"
        },
        "id": "npjZZMhl7kHl",
        "outputId": "6f822cd3-ca86-414b-e647-91eeb3449651"
      },
      "execution_count": null,
      "outputs": [
        {
          "output_type": "stream",
          "name": "stdout",
          "text": [
            "First string\n",
            "Second string\n",
            "Third string\n"
          ]
        }
      ]
    },
    {
      "cell_type": "code",
      "source": [
        "x = \"string 1\"\n",
        "y = 'string 2'\n",
        "z = \"\"\"string 3\"\"\" # No es tan usada"
      ],
      "metadata": {
        "id": "ix1qQ1bV70mQ"
      },
      "execution_count": null,
      "outputs": []
    },
    {
      "cell_type": "code",
      "source": [
        "z   #MAGY: Los resultados en string, salen en COMILLAS SIMPLES"
      ],
      "metadata": {
        "colab": {
          "base_uri": "https://localhost:8080/",
          "height": 35
        },
        "id": "4mpwE_aN8D3Q",
        "outputId": "97da6a4b-a74e-460c-8619-d9da1687edd4"
      },
      "execution_count": null,
      "outputs": [
        {
          "output_type": "execute_result",
          "data": {
            "text/plain": [
              "'string 3'"
            ],
            "application/vnd.google.colaboratory.intrinsic+json": {
              "type": "string"
            }
          },
          "metadata": {},
          "execution_count": 18
        }
      ]
    },
    {
      "cell_type": "code",
      "source": [
        "print(\"I'm Paul\")"
      ],
      "metadata": {
        "colab": {
          "base_uri": "https://localhost:8080/"
        },
        "id": "mL93SEsN8qB9",
        "outputId": "8f258f42-3d20-4f0e-ea89-80ba17c2d723"
      },
      "execution_count": null,
      "outputs": [
        {
          "output_type": "stream",
          "name": "stdout",
          "text": [
            "I'm Paul\n"
          ]
        }
      ]
    },
    {
      "cell_type": "code",
      "source": [
        "print('I'm Paul') #Tener cuidado LA COMBINACIÓN DE  LAS COMILLAS SIMPLES Y DOBLES"
      ],
      "metadata": {
        "colab": {
          "base_uri": "https://localhost:8080/",
          "height": 130
        },
        "id": "-I8WYmLR8xrB",
        "outputId": "3df34e3e-6be4-4872-95ab-43c80ae118cb"
      },
      "execution_count": null,
      "outputs": [
        {
          "output_type": "error",
          "ename": "SyntaxError",
          "evalue": "ignored",
          "traceback": [
            "\u001b[0;36m  File \u001b[0;32m\"<ipython-input-21-4cf111bb8011>\"\u001b[0;36m, line \u001b[0;32m1\u001b[0m\n\u001b[0;31m    print('I'm Paul') #Tener cuidado LA COMBINACIÓN DE  LAS COMILLAS SIMPLES Y DOBLES\u001b[0m\n\u001b[0m                   ^\u001b[0m\n\u001b[0;31mSyntaxError\u001b[0m\u001b[0;31m:\u001b[0m unterminated string literal (detected at line 1)\n"
          ]
        }
      ]
    },
    {
      "cell_type": "code",
      "source": [
        "# None and boolean  #MAGY: NONE BOLEANO\n",
        "num_x = None\n",
        "num_x is None\n"
      ],
      "metadata": {
        "colab": {
          "base_uri": "https://localhost:8080/"
        },
        "id": "eFQ1kwww9Cdn",
        "outputId": "e0bc38d3-87ea-4806-d59a-67304d9218e8"
      },
      "execution_count": null,
      "outputs": [
        {
          "output_type": "execute_result",
          "data": {
            "text/plain": [
              "True"
            ]
          },
          "metadata": {},
          "execution_count": 22
        }
      ]
    },
    {
      "cell_type": "code",
      "source": [
        "x = None\n",
        "print(x)"
      ],
      "metadata": {
        "colab": {
          "base_uri": "https://localhost:8080/"
        },
        "id": "D9_L9nVf9VKl",
        "outputId": "35213718-8791-4b19-e4e2-ac0accd60bf4"
      },
      "execution_count": null,
      "outputs": [
        {
          "output_type": "stream",
          "name": "stdout",
          "text": [
            "None\n"
          ]
        }
      ]
    },
    {
      "cell_type": "code",
      "source": [
        "x is None #MAGY: La variable BOLEANO, son valores LOGICOS, pues toman valores como VERDADERO O FALSO o 0 Y 1"
      ],
      "metadata": {
        "colab": {
          "base_uri": "https://localhost:8080/"
        },
        "id": "yufU0fuZ9lfw",
        "outputId": "e2d55d1b-6a59-419a-cfcc-8454bd293cb3"
      },
      "execution_count": null,
      "outputs": [
        {
          "output_type": "execute_result",
          "data": {
            "text/plain": [
              "True"
            ]
          },
          "metadata": {},
          "execution_count": 25
        }
      ]
    },
    {
      "cell_type": "code",
      "source": [
        "y  = False"
      ],
      "metadata": {
        "id": "x_mVA4SzTMDC"
      },
      "execution_count": null,
      "outputs": []
    },
    {
      "cell_type": "code",
      "source": [
        "num_x = 10\n",
        "num_x is None\n"
      ],
      "metadata": {
        "id": "kyQYxIzsTMp5",
        "colab": {
          "base_uri": "https://localhost:8080/"
        },
        "outputId": "7137f52c-23d8-4a56-85e4-3f45d4222b94"
      },
      "execution_count": null,
      "outputs": [
        {
          "output_type": "execute_result",
          "data": {
            "text/plain": [
              "False"
            ]
          },
          "metadata": {},
          "execution_count": 2
        }
      ]
    },
    {
      "cell_type": "code",
      "source": [
        "# Type casting    #MAGY: TIPO DE DATO\n",
        "float_number = 3.6467\n",
        "float_number\n"
      ],
      "metadata": {
        "colab": {
          "base_uri": "https://localhost:8080/"
        },
        "id": "WBnPmMAqVHHV",
        "outputId": "903df287-a92e-4095-9ce8-1d711305e7a5"
      },
      "execution_count": null,
      "outputs": [
        {
          "output_type": "execute_result",
          "data": {
            "text/plain": [
              "3.6467"
            ]
          },
          "metadata": {},
          "execution_count": 2
        }
      ]
    },
    {
      "cell_type": "code",
      "source": [
        "int(float_number)"
      ],
      "metadata": {
        "colab": {
          "base_uri": "https://localhost:8080/"
        },
        "id": "6FSeEPDsWa-W",
        "outputId": "1fa1cef9-2772-4754-a75e-c739e378a19b"
      },
      "execution_count": null,
      "outputs": [
        {
          "output_type": "execute_result",
          "data": {
            "text/plain": [
              "3"
            ]
          },
          "metadata": {},
          "execution_count": 3
        }
      ]
    },
    {
      "cell_type": "code",
      "source": [
        "x=1\n",
        "str(x)"
      ],
      "metadata": {
        "colab": {
          "base_uri": "https://localhost:8080/",
          "height": 35
        },
        "id": "hiuh7p95Wv8v",
        "outputId": "9cd32120-921d-45b4-b0ca-524787a68e78"
      },
      "execution_count": null,
      "outputs": [
        {
          "output_type": "execute_result",
          "data": {
            "text/plain": [
              "'1'"
            ],
            "application/vnd.google.colaboratory.intrinsic+json": {
              "type": "string"
            }
          },
          "metadata": {},
          "execution_count": 5
        }
      ]
    },
    {
      "cell_type": "code",
      "source": [
        "# x = input(\"¿Cual es tu edad\") #MAGY: Esto nos sirve para definir la variables y el INPUT\n",
        "# print(x)"
      ],
      "metadata": {
        "id": "QyjOVjV3XNh2"
      },
      "execution_count": null,
      "outputs": []
    },
    {
      "cell_type": "code",
      "source": [
        "x =int( input(\"¿Cual es tu edad\") ) #MAGY: Si queremos generar un programa con esta entrada tenemos que castearlo y pasarlo a entero\n",
        "print(x+2)"
      ],
      "metadata": {
        "colab": {
          "base_uri": "https://localhost:8080/"
        },
        "id": "RwrHhNp1XoM5",
        "outputId": "6ce7bde4-3e86-45e4-eb0b-6f1f47faf6c5"
      },
      "execution_count": null,
      "outputs": [
        {
          "output_type": "stream",
          "name": "stdout",
          "text": [
            "¿Cual es tu edad40\n",
            "42\n"
          ]
        }
      ]
    },
    {
      "cell_type": "markdown",
      "source": [
        "**Ejercicios de programación**"
      ],
      "metadata": {
        "id": "cFg_Y8gr8iHk"
      }
    },
    {
      "cell_type": "code",
      "source": [
        "#Para un ejercicio de programación se necesita esta estructura\n",
        "#Inputs\n",
        "\n",
        "#Proceso\n",
        "\n",
        "#Output\n"
      ],
      "metadata": {
        "id": "h3CjydZeXp33"
      },
      "execution_count": null,
      "outputs": []
    },
    {
      "cell_type": "markdown",
      "source": [
        "Crea un programa que pida tres notas por consola y luego imprima el promedio"
      ],
      "metadata": {
        "id": "AH7M-Fa7ablH"
      }
    },
    {
      "cell_type": "code",
      "source": [
        "#Inputs\n",
        "x1 = int(input(\"¿Cual es la nota 1?\"))\n",
        "x2 = int(input(\"¿Cual es la nota 2?\"))\n",
        "x3 = int(input(\"¿Cual es la nota 3?\"))\n",
        "#Proceso\n",
        "promedio = (x1+x2+x3)/3\n",
        "#Output\n",
        "print(promedio)"
      ],
      "metadata": {
        "colab": {
          "base_uri": "https://localhost:8080/"
        },
        "id": "lf39K4_4ZU1W",
        "outputId": "94ce6dcd-f156-4956-fe46-348633ae7e70"
      },
      "execution_count": null,
      "outputs": [
        {
          "output_type": "stream",
          "name": "stdout",
          "text": [
            "¿Cual es la nota 1?17\n",
            "¿Cual es la nota 2?13\n",
            "¿Cual es la nota 3?18\n",
            "16.0\n"
          ]
        }
      ]
    },
    {
      "cell_type": "markdown",
      "source": [
        "Se desea calcular la distancia recorrida (m) por un móvil que tiene velocidad constante (m/s) durante un tiempo t (s), considerar que es un MRU (Movimiento Rectilíneo Uniforme).\n"
      ],
      "metadata": {
        "id": "1c8TY98qakMN"
      }
    },
    {
      "cell_type": "markdown",
      "source": [
        "$V = \\frac{D}{T}$"
      ],
      "metadata": {
        "id": "V_sFK09WbQUl"
      }
    },
    {
      "cell_type": "code",
      "source": [
        "#Pedir por consola la velocidad (m/s) y el tiempo (s). Imprimir por consola la distancia\n",
        "#Distancia = velocidad*tiempo\n",
        "\n"
      ],
      "metadata": {
        "id": "t0jRMgknaSZ1"
      },
      "execution_count": null,
      "outputs": []
    },
    {
      "cell_type": "code",
      "source": [
        "print(\"................................................\")\n",
        "print(\"CALCULO DE DISTANCIA\")\n",
        "print(\"................................................\")\n",
        "\n",
        "#Inputs\n",
        "print(\"Ingrese la velocidad y el tiempo de la unidad móvil\")\n",
        "V=float(input(\"Velocidad:\"))\n",
        "T=float(input(\"Tiempo:\"))\n",
        "\n",
        "#Proceso\n",
        "Distancia=V*T\n",
        "\n",
        "#Output\n",
        "print(Distancia)"
      ],
      "metadata": {
        "colab": {
          "base_uri": "https://localhost:8080/"
        },
        "id": "OGpU90y7bUv2",
        "outputId": "a31866e4-2474-4027-9770-aa0264004fc7"
      },
      "execution_count": null,
      "outputs": [
        {
          "output_type": "stream",
          "name": "stdout",
          "text": [
            "................................................\n",
            "CALCULO DE DISTANCIA\n",
            "................................................\n",
            "Ingrese la velocidad y el tiempo de la unidad móvil\n",
            "Velocidad:80\n",
            "Tiempo:30\n",
            "2400.0\n"
          ]
        }
      ]
    },
    {
      "cell_type": "code",
      "source": [
        "#MAGY practicando"
      ],
      "metadata": {
        "id": "B9A5ubV5B29x"
      },
      "execution_count": null,
      "outputs": []
    },
    {
      "cell_type": "markdown",
      "source": [
        "##Ejercicio:\n",
        " Se necesita elaborar un algoritmo que solicite el número de respuestas  correctas, incorrectas y en blanco, correspondientes a postulantes, y muestre su puntaje final considerando que por cada respuesta correcta tendrá 3 puntos, respuestas incorrectas tendrá -1 y respuestas en blanco tendrá 0"
      ],
      "metadata": {
        "id": "TFovnHDPCv5H"
      }
    },
    {
      "cell_type": "markdown",
      "source": [
        "|Proceso|Identificador|\n",
        "|-------|-------------|\n",
        "|**Entrada**||\n",
        "|Numero de respuestas correctas|RC|\n",
        "|Numero de respuestas incorrectas|RI|\n",
        "|Numero de respuesta en blanco|RB|\n",
        "|-|-|\n",
        "|**Intermedio**||\n",
        "|Puntaje de RC|PRC|\n",
        "|Puntaje de RI|PRI|\n",
        "|Puntaje en blanco|PRB|\n",
        "|-|-|\n",
        "|**Salida**||\n",
        "|Puntaje Final|PF|"
      ],
      "metadata": {
        "id": "TTQaslIrEroA"
      }
    },
    {
      "cell_type": "code",
      "source": [
        "print(\"................................................\")\n",
        "print(\"Ejercicio: Puntaje final\")\n",
        "print(\"................................................\")\n",
        "\n",
        "#Inputs\n",
        "print(\"Ingrese número de respuestas correctasl\")\n",
        "RC = int(input())\n",
        "print(\"Ingrese número de respuestas incorrectasl\")\n",
        "RI = int(input())\n",
        "print(\"Ingrese número de respuestas en blancol\")\n",
        "RB = int(input())\n",
        "\n",
        "#Proceso\n",
        "PRC = RC*3\n",
        "PRI = RI*-1\n",
        "PRB = RB*0\n",
        "PF = PRC + PRI + PRB\n",
        "\n",
        "#Output\n",
        "print(\"El puntaje total es:\" , PF)"
      ],
      "metadata": {
        "colab": {
          "base_uri": "https://localhost:8080/"
        },
        "id": "HjhO-XMgEZf3",
        "outputId": "72bee0a7-e6dd-47fb-d063-98f838269171"
      },
      "execution_count": null,
      "outputs": [
        {
          "output_type": "stream",
          "name": "stdout",
          "text": [
            "................................................\n",
            "Ejercicio: Puntaje final\n",
            "................................................\n",
            "Ingrese número de respuestas correctasl\n",
            "4\n",
            "Ingrese número de respuestas incorrectasl\n",
            "3\n",
            "Ingrese número de respuestas en blancol\n",
            "5\n",
            "El puntaje total es: 9\n"
          ]
        }
      ]
    },
    {
      "cell_type": "code",
      "source": [
        "#MAGY practicando"
      ],
      "metadata": {
        "id": "W-RclRQ7LCvU"
      },
      "execution_count": null,
      "outputs": []
    },
    {
      "cell_type": "markdown",
      "source": [
        "##Ejercicio 4:\n",
        "Escribir un programa que lea un entero positivo, introducido por el usuario y después muestre en pantalla la suma de todos los enteros desde 1 hasta n. La suma de los primeros enteros positivos puede ser calculada de la siguiente forma:\n",
        "\n",
        "suma=n(n+1)2"
      ],
      "metadata": {
        "id": "NJHhC2mCIbBu"
      }
    },
    {
      "cell_type": "code",
      "source": [
        "#Inputs\n",
        "n = int(input(\"Introduce un número entero: \"))\n",
        "\n",
        "#Proceso\n",
        "suma = n*(n+1)/2\n",
        "\n",
        "#Output\n",
        "print(\"La suma de los primeros enteros positivos desde 1 hasta \" + str(n) + \" es \",  str(suma) )"
      ],
      "metadata": {
        "colab": {
          "base_uri": "https://localhost:8080/"
        },
        "id": "IHDHi3aNIu4R",
        "outputId": "4436586e-3816-4213-b6fb-25f6e76399ca"
      },
      "execution_count": null,
      "outputs": [
        {
          "output_type": "stream",
          "name": "stdout",
          "text": [
            "Introduce un número entero: 47\n",
            "La suma de los primeros enteros positivos desde 1 hasta 47 es  1128.0\n"
          ]
        }
      ]
    },
    {
      "cell_type": "markdown",
      "source": [
        "#Estructura de datos (2do archivo)"
      ],
      "metadata": {
        "id": "IZ_yE_92ACfJ"
      }
    },
    {
      "cell_type": "markdown",
      "source": [
        "##Tupla"
      ],
      "metadata": {
        "id": "aLaEBbvHMSlm"
      }
    },
    {
      "cell_type": "markdown",
      "source": [
        "##Listas"
      ],
      "metadata": {
        "id": "O-UG9JevMcM8"
      }
    },
    {
      "cell_type": "markdown",
      "source": [
        "##Diccionarios"
      ],
      "metadata": {
        "id": "cuRDGQajMeuk"
      }
    },
    {
      "cell_type": "markdown",
      "source": [],
      "metadata": {
        "id": "OG7dhzipMhW1"
      }
    },
    {
      "cell_type": "code",
      "source": [],
      "metadata": {
        "id": "V-b5xrX58ztT"
      },
      "execution_count": null,
      "outputs": []
    },
    {
      "cell_type": "markdown",
      "source": [
        "##Set"
      ],
      "metadata": {
        "id": "5bxqIQpFMiFk"
      }
    },
    {
      "cell_type": "markdown",
      "source": [
        "##Operaciones"
      ],
      "metadata": {
        "id": "qGOoGacjMmD0"
      }
    },
    {
      "cell_type": "markdown",
      "source": [
        "###In"
      ],
      "metadata": {
        "id": "zqUFjuzUMmAS"
      }
    },
    {
      "cell_type": "markdown",
      "source": [
        "###+"
      ],
      "metadata": {
        "id": "JYhjpu5RMl-1"
      }
    },
    {
      "cell_type": "markdown",
      "source": [
        "###-"
      ],
      "metadata": {
        "id": "Rv_9hs3hMl7a"
      }
    },
    {
      "cell_type": "markdown",
      "source": [
        "#Funciones"
      ],
      "metadata": {
        "id": "kcdk7CbaMl3i"
      }
    },
    {
      "cell_type": "markdown",
      "source": [
        "#Built-in sequence functions"
      ],
      "metadata": {
        "id": "EaT6MwAeMlz2"
      }
    },
    {
      "cell_type": "markdown",
      "source": [
        "##Enumerate"
      ],
      "metadata": {
        "id": "63c-_S4kMlwi"
      }
    },
    {
      "cell_type": "markdown",
      "source": [
        "##Sorted"
      ],
      "metadata": {
        "id": "p9SccfwDMls0"
      }
    },
    {
      "cell_type": "markdown",
      "source": [
        "##Reverse and Zip"
      ],
      "metadata": {
        "id": "SQtb9SMQMllE"
      }
    },
    {
      "cell_type": "markdown",
      "source": [
        "#Estructuras de control"
      ],
      "metadata": {
        "id": "OLyWbYV5MlO8"
      }
    },
    {
      "cell_type": "markdown",
      "source": [
        "##Selectivas"
      ],
      "metadata": {
        "id": "rJoVvqEYNOdS"
      }
    },
    {
      "cell_type": "markdown",
      "source": [
        "##Repetitivas"
      ],
      "metadata": {
        "id": "jKTrPIUGNOZR"
      }
    },
    {
      "cell_type": "markdown",
      "source": [
        "###For loops\n"
      ],
      "metadata": {
        "id": "NNazU0nuNOVo"
      }
    },
    {
      "cell_type": "markdown",
      "source": [
        "###While loops"
      ],
      "metadata": {
        "id": "kA7L7e0hNORl"
      }
    },
    {
      "cell_type": "markdown",
      "source": [
        "##Exception Handling"
      ],
      "metadata": {
        "id": "BzZc1pwENOJM"
      }
    },
    {
      "cell_type": "markdown",
      "source": [
        "#Laboratorio"
      ],
      "metadata": {
        "id": "0CzzB8nKNNab"
      }
    }
  ]
}